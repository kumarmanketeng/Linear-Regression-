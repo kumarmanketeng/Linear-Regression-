{
  "nbformat": 4,
  "nbformat_minor": 0,
  "metadata": {
    "colab": {
      "name": "Untitled10.ipynb",
      "provenance": []
    },
    "kernelspec": {
      "name": "python3",
      "display_name": "Python 3"
    },
    "language_info": {
      "name": "python"
    }
  },
  "cells": [
    {
      "cell_type": "code",
      "metadata": {
        "id": "NhHz1br2nbbQ",
        "colab": {
          "base_uri": "https://localhost:8080/"
        },
        "outputId": "dd8f4ac1-c130-4697-e02c-13aedb65f585"
      },
      "source": [
        "\n"
      ],
      "execution_count": 1,
      "outputs": [
        {
          "output_type": "stream",
          "text": [
            "Cloning into 'ml-coursera-python-assignments'...\n",
            "remote: Enumerating objects: 254, done.\u001b[K\n",
            "remote: Total 254 (delta 0), reused 0 (delta 0), pack-reused 254\u001b[K\n",
            "Receiving objects: 100% (254/254), 20.51 MiB | 28.11 MiB/s, done.\n",
            "Resolving deltas: 100% (76/76), done.\n"
          ],
          "name": "stdout"
        }
      ]
    },
    {
      "cell_type": "code",
      "metadata": {
        "colab": {
          "base_uri": "https://localhost:8080/"
        },
        "id": "JfnZT6P59wuG",
        "outputId": "36651858-4787-405e-eb14-27e7fa4ca7bd"
      },
      "source": [
        "pip install os_sys "
      ],
      "execution_count": 2,
      "outputs": [
        {
          "output_type": "stream",
          "text": [
            "Collecting os_sys\n",
            "\u001b[?25l  Downloading https://files.pythonhosted.org/packages/89/4a/ecf84210a9c02f4d246c10f28a50050c6934eb9257298eb6d7aeef32c38b/os_sys-2.1.4-py3-none-any.whl (15.6MB)\n",
            "\u001b[K     |████████████████████████████████| 15.6MB 269kB/s \n",
            "\u001b[?25hRequirement already satisfied: sqlparse in /usr/local/lib/python3.7/dist-packages (from os_sys) (0.4.1)\n",
            "Collecting geocoder\n",
            "\u001b[?25l  Downloading https://files.pythonhosted.org/packages/4f/6b/13166c909ad2f2d76b929a4227c952630ebaf0d729f6317eb09cbceccbab/geocoder-1.38.1-py2.py3-none-any.whl (98kB)\n",
            "\u001b[K     |████████████████████████████████| 102kB 13.2MB/s \n",
            "\u001b[?25hRequirement already satisfied: matplotlib in /usr/local/lib/python3.7/dist-packages (from os_sys) (3.2.2)\n",
            "Collecting python-dateutil<2.8,>=2.7\n",
            "\u001b[?25l  Downloading https://files.pythonhosted.org/packages/74/68/d87d9b36af36f44254a8d512cbfc48369103a3b9e474be9bdfe536abfc45/python_dateutil-2.7.5-py2.py3-none-any.whl (225kB)\n",
            "\u001b[K     |████████████████████████████████| 235kB 40.9MB/s \n",
            "\u001b[?25hCollecting extract-zip\n",
            "  Downloading https://files.pythonhosted.org/packages/4e/fc/43d641f589977c14345ca05ad8a339af65f9d81a655e0630a4dd63364272/extract_zip-1.0.0-py3-none-any.whl\n",
            "Collecting pyvalid\n",
            "  Downloading https://files.pythonhosted.org/packages/de/43/c877f38e5d8b7972c04f769ecf884a2a1a3fcd28f0cb3f24fd9b0e8069cb/pyvalid-1.0.4-py3-none-any.whl\n",
            "Requirement already satisfied: psutil in /usr/local/lib/python3.7/dist-packages (from os_sys) (5.4.8)\n",
            "Collecting pypiwin32\n",
            "  Downloading https://files.pythonhosted.org/packages/d0/1b/2f292bbd742e369a100c91faa0483172cd91a1a422a6692055ac920946c5/pypiwin32-223-py3-none-any.whl\n",
            "Collecting Django\n",
            "\u001b[?25l  Downloading https://files.pythonhosted.org/packages/70/22/ed1943c0ef2be99ade872f49a20aa4cfc70eb4ffc866fc61b128211f3e5d/Django-3.2.4-py3-none-any.whl (7.9MB)\n",
            "\u001b[K     |████████████████████████████████| 7.9MB 43.2MB/s \n",
            "\u001b[?25hCollecting spacy==2.2.0\n",
            "\u001b[?25l  Downloading https://files.pythonhosted.org/packages/4a/ed/6f1281a10c4fe64ae8b1a5dc9ab60e7f1a09480367e1d9e2c874d5850356/spacy-2.2.0-cp37-cp37m-manylinux1_x86_64.whl (10.2MB)\n",
            "\u001b[K     |████████████████████████████████| 10.2MB 34.7MB/s \n",
            "\u001b[?25hCollecting netifaces\n",
            "  Downloading https://files.pythonhosted.org/packages/c8/05/b41bbe076da2316f4521decf22346b1f20cb81484dc49424a9e58e6f50ae/netifaces-0.11.0-cp37-cp37m-manylinux_2_5_x86_64.manylinux1_x86_64.whl\n",
            "\u001b[31mERROR: Could not find a version that satisfies the requirement text-editor (from os_sys) (from versions: none)\u001b[0m\n",
            "\u001b[31mERROR: No matching distribution found for text-editor (from os_sys)\u001b[0m\n"
          ],
          "name": "stdout"
        }
      ]
    },
    {
      "cell_type": "code",
      "metadata": {
        "colab": {
          "base_uri": "https://localhost:8080/"
        },
        "id": "YZxflDWk5i0j",
        "outputId": "28d19dec-fc4b-4c04-f4d9-668dd37c6e4a"
      },
      "source": [
        "pip install --upgrade os_sys"
      ],
      "execution_count": 3,
      "outputs": [
        {
          "output_type": "stream",
          "text": [
            "Collecting os_sys\n",
            "  Using cached https://files.pythonhosted.org/packages/89/4a/ecf84210a9c02f4d246c10f28a50050c6934eb9257298eb6d7aeef32c38b/os_sys-2.1.4-py3-none-any.whl\n",
            "Collecting Eel\n",
            "  Downloading https://files.pythonhosted.org/packages/b3/c2/7dc22cc9ea23f0339316d6d249392d3ce67190430f2b05a316f3471ae15d/Eel-0.14.0.tar.gz\n",
            "Collecting Django\n",
            "  Using cached https://files.pythonhosted.org/packages/70/22/ed1943c0ef2be99ade872f49a20aa4cfc70eb4ffc866fc61b128211f3e5d/Django-3.2.4-py3-none-any.whl\n",
            "Collecting cefpython3\n",
            "\u001b[?25l  Downloading https://files.pythonhosted.org/packages/ee/3d/1dadde408f1702f34e5c496a48d6f63e09f57830287edd9de70051b6894a/cefpython3-66.0-py2.py3-none-manylinux1_x86_64.whl (79.6MB)\n",
            "\u001b[K     |████████████████████████████████| 79.6MB 118kB/s \n",
            "\u001b[?25hCollecting PyInstaller\n",
            "\u001b[?25l  Downloading https://files.pythonhosted.org/packages/b6/27/a006fcadba0db30819c968eb8decb4937cda398ca7a44d8874172cdc228a/pyinstaller-4.3.tar.gz (3.7MB)\n",
            "\u001b[K     |████████████████████████████████| 3.7MB 36.2MB/s \n",
            "\u001b[?25h  Installing build dependencies ... \u001b[?25l\u001b[?25hdone\n",
            "  Getting requirements to build wheel ... \u001b[?25l\u001b[?25hdone\n",
            "    Preparing wheel metadata ... \u001b[?25l\u001b[?25hdone\n",
            "Collecting pynput\n",
            "\u001b[?25l  Downloading https://files.pythonhosted.org/packages/fd/f7/cb6e7edb8bb46bb38ac8c4f8065e6e3abaaef3436ecd7fe139ca5ba93c3c/pynput-1.7.3-py2.py3-none-any.whl (99kB)\n",
            "\u001b[K     |████████████████████████████████| 102kB 12.2MB/s \n",
            "\u001b[?25hCollecting netifaces\n",
            "  Using cached https://files.pythonhosted.org/packages/c8/05/b41bbe076da2316f4521decf22346b1f20cb81484dc49424a9e58e6f50ae/netifaces-0.11.0-cp37-cp37m-manylinux_2_5_x86_64.manylinux1_x86_64.whl\n",
            "Collecting pyyaml<5.2,>=5.1\n",
            "\u001b[?25l  Downloading https://files.pythonhosted.org/packages/e3/e8/b3212641ee2718d556df0f23f78de8303f068fe29cdaa7a91018849582fe/PyYAML-5.1.2.tar.gz (265kB)\n",
            "\u001b[K     |████████████████████████████████| 266kB 51.9MB/s \n",
            "\u001b[?25hCollecting pygubu\n",
            "\u001b[?25l  Downloading https://files.pythonhosted.org/packages/48/0c/81d41ef9c0d94d04e9634c862a3a3a223439ad15919257d3d836829f0213/pygubu-0.11-py3-none-any.whl (63kB)\n",
            "\u001b[K     |████████████████████████████████| 71kB 8.1MB/s \n",
            "\u001b[?25hRequirement already satisfied, skipping upgrade: numpy in /usr/local/lib/python3.7/dist-packages (from os_sys) (1.19.5)\n",
            "Collecting pypiwin32\n",
            "  Using cached https://files.pythonhosted.org/packages/d0/1b/2f292bbd742e369a100c91faa0483172cd91a1a422a6692055ac920946c5/pypiwin32-223-py3-none-any.whl\n",
            "Requirement already satisfied, skipping upgrade: tornado in /usr/local/lib/python3.7/dist-packages (from os_sys) (5.1.1)\n",
            "Collecting pyvalid\n",
            "  Using cached https://files.pythonhosted.org/packages/de/43/c877f38e5d8b7972c04f769ecf884a2a1a3fcd28f0cb3f24fd9b0e8069cb/pyvalid-1.0.4-py3-none-any.whl\n",
            "Collecting extract-zip\n",
            "  Using cached https://files.pythonhosted.org/packages/4e/fc/43d641f589977c14345ca05ad8a339af65f9d81a655e0630a4dd63364272/extract_zip-1.0.0-py3-none-any.whl\n",
            "Requirement already satisfied, skipping upgrade: tqdm in /usr/local/lib/python3.7/dist-packages (from os_sys) (4.41.1)\n",
            "Requirement already satisfied, skipping upgrade: nltk<4.0,>=3.2 in /usr/local/lib/python3.7/dist-packages (from os_sys) (3.2.5)\n",
            "Collecting spacy==2.2.0\n",
            "  Using cached https://files.pythonhosted.org/packages/4a/ed/6f1281a10c4fe64ae8b1a5dc9ab60e7f1a09480367e1d9e2c874d5850356/spacy-2.2.0-cp37-cp37m-manylinux1_x86_64.whl\n",
            "Collecting sqlalchemy<1.4,>=1.3\n",
            "\u001b[?25l  Downloading https://files.pythonhosted.org/packages/31/44/a86070dda790ce94cd7d9fb9281cd614c7d30850ed774ace9a84d0d5d491/SQLAlchemy-1.3.24-cp37-cp37m-manylinux2010_x86_64.whl (1.3MB)\n",
            "\u001b[K     |████████████████████████████████| 1.3MB 29.9MB/s \n",
            "\u001b[?25hRequirement already satisfied, skipping upgrade: psutil in /usr/local/lib/python3.7/dist-packages (from os_sys) (5.4.8)\n",
            "Collecting mathparse<0.2,>=0.1\n",
            "  Downloading https://files.pythonhosted.org/packages/c3/e5/4910fb85950cb960fcf3f5aabe1c8e55f5c9201788a1c1302b570a7e1f84/mathparse-0.1.2-py3-none-any.whl\n",
            "\u001b[31mERROR: Could not find a version that satisfies the requirement text-editor (from os_sys) (from versions: none)\u001b[0m\n",
            "\u001b[31mERROR: No matching distribution found for text-editor (from os_sys)\u001b[0m\n"
          ],
          "name": "stdout"
        }
      ]
    },
    {
      "cell_type": "code",
      "metadata": {
        "colab": {
          "base_uri": "https://localhost:8080/"
        },
        "id": "Z0wOflT35zkD",
        "outputId": "7d3bc054-68b8-44bb-b8c1-d2e9a76aba82"
      },
      "source": [
        "!pip install utils "
      ],
      "execution_count": 4,
      "outputs": [
        {
          "output_type": "stream",
          "text": [
            "Collecting utils\n",
            "  Downloading https://files.pythonhosted.org/packages/55/e6/c2d2b2703e7debc8b501caae0e6f7ead148fd0faa3c8131292a599930029/utils-1.0.1-py2.py3-none-any.whl\n",
            "Installing collected packages: utils\n",
            "Successfully installed utils-1.0.1\n"
          ],
          "name": "stdout"
        }
      ]
    },
    {
      "cell_type": "code",
      "metadata": {
        "colab": {
          "resources": {
            "http://localhost:8080/nbextensions/google.colab/files.js": {
              "data": "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",
              "ok": true,
              "headers": [
                [
                  "content-type",
                  "application/javascript"
                ]
              ],
              "status": 200,
              "status_text": ""
            }
          },
          "base_uri": "https://localhost:8080/",
          "height": 107
        },
        "id": "EzFz74Gt55Jp",
        "outputId": "9049a711-f949-4bf0-b3b1-65e6ccefc76d"
      },
      "source": [
        "from google.colab import files\n",
        "files.upload() "
      ],
      "execution_count": 5,
      "outputs": [
        {
          "output_type": "display_data",
          "data": {
            "text/html": [
              "\n",
              "     <input type=\"file\" id=\"files-c90ab043-4919-4d7c-a604-9a9d28f80452\" name=\"files[]\" multiple disabled\n",
              "        style=\"border:none\" />\n",
              "     <output id=\"result-c90ab043-4919-4d7c-a604-9a9d28f80452\">\n",
              "      Upload widget is only available when the cell has been executed in the\n",
              "      current browser session. Please rerun this cell to enable.\n",
              "      </output>\n",
              "      <script src=\"/nbextensions/google.colab/files.js\"></script> "
            ],
            "text/plain": [
              "<IPython.core.display.HTML object>"
            ]
          },
          "metadata": {
            "tags": []
          }
        },
        {
          "output_type": "stream",
          "text": [
            "Saving utils.py to utils.py\n"
          ],
          "name": "stdout"
        },
        {
          "output_type": "execute_result",
          "data": {
            "text/plain": [
              "{'utils.py': b'import sys\\nimport numpy as np\\nfrom matplotlib import pyplot\\n\\nsys.path.append(\\'..\\')\\nfrom submission import SubmissionBase\\n\\n\\ndef displayData(X, example_width=None, figsize=(10, 10)):\\n    \"\"\"\\n    Displays 2D data stored in X in a nice grid.\\n    \"\"\"\\n    # Compute rows, cols\\n    if X.ndim == 2:\\n        m, n = X.shape\\n    elif X.ndim == 1:\\n        n = X.size\\n        m = 1\\n        X = X[None]  # Promote to a 2 dimensional array\\n    else:\\n        raise IndexError(\\'Input X should be 1 or 2 dimensional.\\')\\n\\n    example_width = example_width or int(np.round(np.sqrt(n)))\\n    example_height = n / example_width\\n\\n    # Compute number of items to display\\n    display_rows = int(np.floor(np.sqrt(m)))\\n    display_cols = int(np.ceil(m / display_rows))\\n\\n    fig, ax_array = pyplot.subplots(display_rows, display_cols, figsize=figsize)\\n    fig.subplots_adjust(wspace=0.025, hspace=0.025)\\n\\n    ax_array = [ax_array] if m == 1 else ax_array.ravel()\\n\\n    for i, ax in enumerate(ax_array):\\n        ax.imshow(X[i].reshape(example_width, example_width, order=\\'F\\'),\\n                  cmap=\\'Greys\\', extent=[0, 1, 0, 1])\\n        ax.axis(\\'off\\')\\n\\n\\ndef sigmoid(z):\\n    \"\"\"\\n    Computes the sigmoid of z.\\n    \"\"\"\\n    return 1.0 / (1.0 + np.exp(-z))\\n\\n\\nclass Grader(SubmissionBase):\\n    # Random Test Cases\\n    X = np.stack([np.ones(20),\\n                  np.exp(1) * np.sin(np.arange(1, 21)),\\n                  np.exp(0.5) * np.cos(np.arange(1, 21))], axis=1)\\n\\n    y = (np.sin(X[:, 0] + X[:, 1]) > 0).astype(float)\\n\\n    Xm = np.array([[-1, -1],\\n                   [-1, -2],\\n                   [-2, -1],\\n                   [-2, -2],\\n                   [1, 1],\\n                   [1, 2],\\n                   [2, 1],\\n                   [2, 2],\\n                   [-1, 1],\\n                   [-1, 2],\\n                   [-2, 1],\\n                   [-2, 2],\\n                   [1, -1],\\n                   [1, -2],\\n                   [-2, -1],\\n                   [-2, -2]])\\n    ym = np.array([0, 0, 0, 0, 1, 1, 1, 1, 2, 2, 2, 2, 3, 3, 3, 3])\\n\\n    t1 = np.sin(np.reshape(np.arange(1, 25, 2), (4, 3), order=\\'F\\'))\\n    t2 = np.cos(np.reshape(np.arange(1, 41, 2), (4, 5), order=\\'F\\'))\\n\\n    def __init__(self):\\n        part_names = [\\'Regularized Logistic Regression\\',\\n                      \\'One-vs-All Classifier Training\\',\\n                      \\'One-vs-All Classifier Prediction\\',\\n                      \\'Neural Network Prediction Function\\']\\n\\n        super().__init__(\\'multi-class-classification-and-neural-networks\\', part_names)\\n\\n    def __iter__(self):\\n        for part_id in range(1, 5):\\n            try:\\n                func = self.functions[part_id]\\n\\n                # Each part has different expected arguments/different function\\n                if part_id == 1:\\n                    res = func(np.array([0.25, 0.5, -0.5]), self.X, self.y, 0.1)\\n                    res = np.hstack(res).tolist()\\n                elif part_id == 2:\\n                    res = func(self.Xm, self.ym, 4, 0.1)\\n                elif part_id == 3:\\n                    res = func(self.t1, self.Xm) + 1\\n                elif part_id == 4:\\n                    res = func(self.t1, self.t2, self.Xm) + 1\\n                else:\\n                    raise KeyError\\n                yield part_id, res\\n            except KeyError:\\n                yield part_id, 0\\n'}"
            ]
          },
          "metadata": {
            "tags": []
          },
          "execution_count": 5
        }
      ]
    },
    {
      "cell_type": "code",
      "metadata": {
        "colab": {
          "resources": {
            "http://localhost:8080/nbextensions/google.colab/files.js": {
              "data": "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",
              "ok": true,
              "headers": [
                [
                  "content-type",
                  "application/javascript"
                ]
              ],
              "status": 200,
              "status_text": ""
            }
          },
          "base_uri": "https://localhost:8080/",
          "height": 107
        },
        "id": "p4iSWqsx78hA",
        "outputId": "45419caf-1402-4e43-e2e9-4c0cc41415dc"
      },
      "source": [
        "from google.colab import files\n",
        "files.upload() "
      ],
      "execution_count": 6,
      "outputs": [
        {
          "output_type": "display_data",
          "data": {
            "text/html": [
              "\n",
              "     <input type=\"file\" id=\"files-8d27492e-87fb-4668-9749-23be94050d2b\" name=\"files[]\" multiple disabled\n",
              "        style=\"border:none\" />\n",
              "     <output id=\"result-8d27492e-87fb-4668-9749-23be94050d2b\">\n",
              "      Upload widget is only available when the cell has been executed in the\n",
              "      current browser session. Please rerun this cell to enable.\n",
              "      </output>\n",
              "      <script src=\"/nbextensions/google.colab/files.js\"></script> "
            ],
            "text/plain": [
              "<IPython.core.display.HTML object>"
            ]
          },
          "metadata": {
            "tags": []
          }
        },
        {
          "output_type": "stream",
          "text": [
            "Saving submission.py to submission.py\n"
          ],
          "name": "stdout"
        },
        {
          "output_type": "execute_result",
          "data": {
            "text/plain": [
              "{'submission.py': b'from urllib.parse import urlencode\\nfrom urllib.request import urlopen\\nimport pickle\\nimport json\\nfrom collections import OrderedDict\\nimport numpy as np\\nimport os\\n\\n\\nclass SubmissionBase:\\n\\n    submit_url = \\'https://www-origin.coursera.org/api/\\' \\\\\\n                 \\'onDemandProgrammingImmediateFormSubmissions.v1\\'\\n    save_file = \\'token.pkl\\'\\n\\n    def __init__(self, assignment_slug, part_names):\\n        self.assignment_slug = assignment_slug\\n        self.part_names = part_names\\n        self.login = None\\n        self.token = None\\n        self.functions = OrderedDict()\\n        self.args = dict()\\n\\n    def grade(self):\\n        print(\\'\\\\nSubmitting Solutions | Programming Exercise %s\\\\n\\' % self.assignment_slug)\\n        self.login_prompt()\\n\\n        # Evaluate the different parts of exercise\\n        parts = OrderedDict()\\n        for part_id, result in self:\\n            parts[str(part_id)] = {\\'output\\': sprintf(\\'%0.5f \\', result)}\\n        result, response = self.request(parts)\\n        response = json.loads(response.decode(\"utf-8\"))\\n\\n        # if an error was returned, print it and stop\\n        if \\'errorMessage\\' in response:\\n            print(response[\\'errorMessage\\'])\\n            return\\n\\n        # Print the grading table\\n        print(\\'%43s | %9s | %-s\\' % (\\'Part Name\\', \\'Score\\', \\'Feedback\\'))\\n        print(\\'%43s | %9s | %-s\\' % (\\'---------\\', \\'-----\\', \\'--------\\'))\\n        for part in parts:\\n            part_feedback = response[\\'partFeedbacks\\'][part]\\n            part_evaluation = response[\\'partEvaluations\\'][part]\\n            score = \\'%d / %3d\\' % (part_evaluation[\\'score\\'], part_evaluation[\\'maxScore\\'])\\n            print(\\'%43s | %9s | %-s\\' % (self.part_names[int(part) - 1], score, part_feedback))\\n        evaluation = response[\\'evaluation\\']\\n        total_score = \\'%d / %d\\' % (evaluation[\\'score\\'], evaluation[\\'maxScore\\'])\\n        print(\\'                                  --------------------------------\\')\\n        print(\\'%43s | %9s | %-s\\\\n\\' % (\\' \\', total_score, \\' \\'))\\n\\n    def login_prompt(self):\\n        if os.path.isfile(self.save_file):\\n            with open(self.save_file, \\'rb\\') as f:\\n                login, token = pickle.load(f)\\n            reenter = input(\\'Use token from last successful submission (%s)? (Y/n): \\' % login)\\n\\n            if reenter == \\'\\' or reenter[0] == \\'Y\\' or reenter[0] == \\'y\\':\\n                self.login, self.token = login, token\\n                return\\n            else:\\n                os.remove(self.save_file)\\n\\n        self.login = input(\\'Login (email address): \\')\\n        self.token = input(\\'Token: \\')\\n\\n        # Save the entered credentials\\n        if not os.path.isfile(self.save_file):\\n            with open(self.save_file, \\'wb\\') as f:\\n                pickle.dump((self.login, self.token), f)\\n\\n    def request(self, parts):\\n        params = {\\n            \\'assignmentSlug\\': self.assignment_slug,\\n            \\'secret\\': self.token,\\n            \\'parts\\': parts,\\n            \\'submitterEmail\\': self.login}\\n\\n        params = urlencode({\\'jsonBody\\': json.dumps(params)}).encode(\"utf-8\")\\n        f = urlopen(self.submit_url, params)\\n        try:\\n            return 0, f.read()\\n        finally:\\n            f.close()\\n\\n    def __iter__(self):\\n        for part_id in self.functions:\\n            yield part_id\\n\\n    def __setitem__(self, key, value):\\n        self.functions[key] = value\\n\\n\\ndef sprintf(fmt, arg):\\n    \"\"\" Emulates (part of) Octave sprintf function. \"\"\"\\n    if isinstance(arg, tuple):\\n        # for multiple return values, only use the first one\\n        arg = arg[0]\\n\\n    if isinstance(arg, (np.ndarray, list)):\\n        # concatenates all elements, column by column\\n        return \\' \\'.join(fmt % e for e in np.asarray(arg).ravel(\\'F\\'))\\n    else:\\n        return fmt % arg\\n'}"
            ]
          },
          "metadata": {
            "tags": []
          },
          "execution_count": 6
        }
      ]
    },
    {
      "cell_type": "code",
      "metadata": {
        "id": "8KLDVqfz6cwj"
      },
      "source": [
        "# used for manipulating directory paths\n",
        "import os\n",
        "\n",
        "# Scientific and vector computation for python\n",
        "import numpy as np\n",
        "\n",
        "# Plotting library\n",
        "from matplotlib import pyplot\n",
        "\n",
        "# Optimization module in scipy\n",
        "from scipy import optimize\n",
        "\n",
        "# will be used to load MATLAB mat datafile format\n",
        "from scipy.io import loadmat\n",
        "\n",
        "# library written for this exercise providing additional functions for assignment submission, and others\n",
        "import utils\n",
        "\n",
        "\n",
        "# define the submission/grader object for this exercise\n",
        "\n",
        "# tells matplotlib to embed plots within the notebook\n",
        "%matplotlib inline"
      ],
      "execution_count": 7,
      "outputs": []
    },
    {
      "cell_type": "code",
      "metadata": {
        "id": "scnY2cwv6q8K"
      },
      "source": [
        "# Read comma separated data\n",
        "data = np.loadtxt(os.path.join('Data', '/content/ml-coursera-python-assignments/Exercise1/Data/ex1data1.txt'), delimiter=',')\n",
        "x, y = data[:, 0], data[:, 1]\n",
        "\n",
        "m = y.size  # number of training examples"
      ],
      "execution_count": 23,
      "outputs": []
    },
    {
      "cell_type": "code",
      "metadata": {
        "id": "upZYsKJFraE0"
      },
      "source": [
        "x= np.stack([np.ones(m), X], axis=1)"
      ],
      "execution_count": 31,
      "outputs": []
    },
    {
      "cell_type": "code",
      "metadata": {
        "id": "8CPsfmxaqLcZ"
      },
      "source": [
        "def plotData(x, y):\n",
        "    \n",
        "    fig = pyplot.figure()  # open a new figure\n",
        "    \n",
        "    pyplot.plot(x, y, 'ro', ms=10, mec='k')\n",
        "    pyplot.ylabel('Profit in $10,000')\n",
        "    pyplot.xlabel('Population of City in 10,000s')"
      ],
      "execution_count": 32,
      "outputs": []
    },
    {
      "cell_type": "code",
      "metadata": {
        "colab": {
          "base_uri": "https://localhost:8080/"
        },
        "id": "wVmc4EiKtYbz",
        "outputId": "5f08e8be-ca06-49ec-ae5d-201ffe97b892"
      },
      "source": [
        "m=y.size\n",
        "m"
      ],
      "execution_count": 41,
      "outputs": [
        {
          "output_type": "execute_result",
          "data": {
            "text/plain": [
              "97"
            ]
          },
          "metadata": {
            "tags": []
          },
          "execution_count": 41
        }
      ]
    },
    {
      "cell_type": "code",
      "metadata": {
        "colab": {
          "base_uri": "https://localhost:8080/",
          "height": 279
        },
        "id": "qbyAwL31qTFR",
        "outputId": "a60ca2f4-a9ff-409e-db03-8ab9100b4867"
      },
      "source": [
        "plotData(x, y)"
      ],
      "execution_count": 33,
      "outputs": [
        {
          "output_type": "display_data",
          "data": {
            "image/png": "[encoded data removed]",
            "text/plain": [
              "<Figure size 432x288 with 1 Axes>"
            ]
          },
          "metadata": {
            "tags": [],
            "needs_background": "light"
          }
        }
      ]
    },
    {
      "cell_type": "code",
      "metadata": {
        "id": "jZV5mcnkqb9e"
      },
      "source": [
        "def computeCost(x, y, theta):\n",
        "    \n",
        "    # initialize some useful values\n",
        "    m = y.size  # number of training examples\n",
        "\n",
        "    # You need to return the following variables correctly\n",
        "    J = 0\n",
        "    \n",
        "    # ====================== YOUR CODE HERE =====================\n",
        "    h = np.dot(x, theta)\n",
        "    \n",
        "    J = (1/(2 * m)) * np.sum(np.square(np.dot(x, theta) - y))\n",
        "    \n",
        "    # ===========================================================\n",
        "    return J"
      ],
      "execution_count": 34,
      "outputs": []
    },
    {
      "cell_type": "code",
      "metadata": {
        "colab": {
          "base_uri": "https://localhost:8080/"
        },
        "id": "CRtmwaWYq8XS",
        "outputId": "a7a8aa8d-2c90-4e1a-be28-15792a014f52"
      },
      "source": [
        "J = computeCost(x, y, theta=np.array([0.0, 0.0]))\n",
        "print('With theta = [0, 0] \\nCost computed = %.2f' % J)\n",
        "print('Expected cost value (approximately) 32.07\\n')\n",
        "\n",
        "# further testing of the cost function\n",
        "J = computeCost(x, y, theta=np.array([-1, 2]))\n",
        "print('With theta = [-1, 2]\\nCost computed = %.2f' % J)\n",
        "print('Expected cost value (approximately) 54.24')"
      ],
      "execution_count": 35,
      "outputs": [
        {
          "output_type": "stream",
          "text": [
            "With theta = [0, 0] \n",
            "Cost computed = 32.07\n",
            "Expected cost value (approximately) 32.07\n",
            "\n",
            "With theta = [-1, 2]\n",
            "Cost computed = 54.24\n",
            "Expected cost value (approximately) 54.24\n"
          ],
          "name": "stdout"
        }
      ]
    },
    {
      "cell_type": "code",
      "metadata": {
        "id": "5nw-qwvsro6C"
      },
      "source": [
        "def gradientDescent(X, y, theta, alpha, num_iters):\n",
        "    \"\"\"\n",
        "    Performs gradient descent to learn `theta`. Updates theta by taking `num_iters`\n",
        "    gradient steps with learning rate `alpha`.\n",
        "    \n",
        "    Parameters\n",
        "    ----------\n",
        "    X : array_like\n",
        "        The input dataset of shape (m x n+1).\n",
        "    \n",
        "    y : arra_like\n",
        "        Value at given features. A vector of shape (m, ).\n",
        "    \n",
        "    theta : array_like\n",
        "        Initial values for the linear regression parameters. \n",
        "        A vector of shape (n+1, ).\n",
        "    \n",
        "    alpha : float\n",
        "        The learning rate.\n",
        "    \n",
        "    num_iters : int\n",
        "        The number of iterations for gradient descent. \n",
        "    \n",
        "    Returns\n",
        "    -------\n",
        "    theta : array_like\n",
        "        The learned linear regression parameters. A vector of shape (n+1, ).\n",
        "    \n",
        "    J_history : list\n",
        "        A python list for the values of the cost function after each iteration.\n",
        "    \n",
        "    Instructions\n",
        "    ------------\n",
        "    Peform a single gradient step on the parameter vector theta.\n",
        "\n",
        "    While debugging, it can be useful to print out the values of \n",
        "    the cost function (computeCost) and gradient here.\n",
        "    \"\"\"\n",
        "    # Initialize some useful values\n",
        "    m = y.shape[0]  # number of training examples\n",
        "    \n",
        "    # make a copy of theta, to avoid changing the original array, since numpy arrays\n",
        "    # are passed by reference to functions\n",
        "    theta = theta.copy()\n",
        "    \n",
        "    J_history = [] # Use a python list to save cost in every iteration\n",
        "    \n",
        "    for i in range(num_iters):\n",
        "        # ==================== YOUR CODE HERE =================================\n",
        "        theta = theta - (alpha / m) * (np.dot(X, theta) - y).dot(x)\n",
        "\n",
        "        # =====================================================================\n",
        "        \n",
        "        # save the cost J in every iteration\n",
        "        J_history.append(computeCost(x, y, theta))\n",
        "    \n",
        "    return theta, J_history"
      ],
      "execution_count": 36,
      "outputs": []
    },
    {
      "cell_type": "code",
      "metadata": {
        "colab": {
          "base_uri": "https://localhost:8080/"
        },
        "id": "1_6AzA8rrvCz",
        "outputId": "c5749a36-c198-4147-923b-2c676ef8e492"
      },
      "source": [
        "# initialize fitting parameters\n",
        "theta = np.zeros(2)\n",
        "\n",
        "# some gradient descent settings\n",
        "iterations = 1500\n",
        "alpha = 0.01\n",
        "\n",
        "theta, J_history = gradientDescent(x ,y, theta, alpha, iterations)\n",
        "print('Theta found by gradient descent: {:.4f}, {:.4f}'.format(*theta))\n",
        "print('Expected theta values (approximately): [-3.6303, 1.1664]')"
      ],
      "execution_count": 38,
      "outputs": [
        {
          "output_type": "stream",
          "text": [
            "Theta found by gradient descent: -3.6303, 1.1664\n",
            "Expected theta values (approximately): [-3.6303, 1.1664]\n"
          ],
          "name": "stdout"
        }
      ]
    },
    {
      "cell_type": "code",
      "metadata": {
        "colab": {
          "base_uri": "https://localhost:8080/",
          "height": 279
        },
        "id": "jt1ln90Jr2A4",
        "outputId": "bde43fc3-7a91-4448-b59d-a2f42cb8cc2f"
      },
      "source": [
        "# plot the linear fit\n",
        "plotData(x[:, 1], y)\n",
        "pyplot.plot(x[:, 1], np.dot(x, theta), '-')\n",
        "pyplot.legend(['Training data', 'Linear regression']);"
      ],
      "execution_count": 40,
      "outputs": [
        {
          "output_type": "display_data",
          "data": {
            "image/png": "[encoded data removed]",
            "text/plain": [
              "<Figure size 432x288 with 1 Axes>"
            ]
          },
          "metadata": {
            "tags": [],
            "needs_background": "light"
          }
        }
      ]
    }
  ]
}