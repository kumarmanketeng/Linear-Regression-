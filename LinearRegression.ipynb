{
  "nbformat": 4,
  "nbformat_minor": 0,
  "metadata": {
    "colab": {
      "name": "Untitled0.ipynb",
      "provenance": [],
      "authorship_tag": "ABX9TyP3UkMSUWuU2aky1s3AozlS",
      "include_colab_link": true
    },
    "kernelspec": {
      "name": "python3",
      "display_name": "Python 3"
    },
    "language_info": {
      "name": "python"
    }
  },
  "cells": [
    {
      "cell_type": "markdown",
      "metadata": {
        "id": "view-in-github",
        "colab_type": "text"
      },
      "source": [
        "<a href=\"https://colab.research.google.com/github/kumarmanketeng/Linear-Regression-/blob/main/LinearRegression.ipynb\" target=\"_parent\"><img src=\"https://colab.research.google.com/assets/colab-badge.svg\" alt=\"Open In Colab\"/></a>"
      ]
    },
    {
      "cell_type": "markdown",
      "metadata": {
        "id": "t25TmHpjfcI4"
      },
      "source": [
        "@article{madewithml,\n",
        "    author       = {Goku Mohandas},\n",
        "    title        = { Notebooks - Made With ML },\n",
        "    howpublished = {\\url{https://madewithml.com/}},\n",
        "    year         = {2021}\n",
        "}"
      ]
    },
    {
      "cell_type": "code",
      "metadata": {
        "colab": {
          "base_uri": "https://localhost:8080/"
        },
        "id": "qx--xCiSfgdc",
        "outputId": "f8114710-fd83-47cc-b2b2-cd4aaff2386c"
      },
      "source": [
        "# float variable\n",
        "x = 5.0\n",
        "print (x, type(x))"
      ],
      "execution_count": 2,
      "outputs": [
        {
          "output_type": "stream",
          "text": [
            "5.0 <class 'float'>\n"
          ],
          "name": "stdout"
        }
      ]
    },
    {
      "cell_type": "code",
      "metadata": {
        "colab": {
          "base_uri": "https://localhost:8080/"
        },
        "id": "D0D8OoW9f3Oh",
        "outputId": "c3fe9f03-a919-4159-dc63-b20318d55406"
      },
      "source": [
        "x=4\n",
        "if x==4:\n",
        "  score='low'\n",
        "elif x==3:\n",
        "  score='high'\n",
        "else:\n",
        "  score='medium'\n",
        "print(score)"
      ],
      "execution_count": 5,
      "outputs": [
        {
          "output_type": "stream",
          "text": [
            "low\n"
          ],
          "name": "stdout"
        }
      ]
    },
    {
      "cell_type": "code",
      "metadata": {
        "colab": {
          "base_uri": "https://localhost:8080/"
        },
        "id": "_Nh-nOGWgEQq",
        "outputId": "be82c009-3c99-4753-fe6e-fd6b40e5f381"
      },
      "source": [
        "veggies = [\"carrots\", \"broccoli\", \"beans\"]\n",
        "for veggie in veggies:\n",
        "    if veggie == \"broccoli\":\n",
        "        break\n",
        "    print (veggie)"
      ],
      "execution_count": 6,
      "outputs": [
        {
          "output_type": "stream",
          "text": [
            "carrots\n"
          ],
          "name": "stdout"
        }
      ]
    },
    {
      "cell_type": "code",
      "metadata": {
        "colab": {
          "base_uri": "https://localhost:8080/"
        },
        "id": "mDo89noygkKa",
        "outputId": "e412fcf1-ed21-4526-bc1c-5859a413a334"
      },
      "source": [
        "# `continue` to the next iteration\n",
        "veggies = [\"carrots\", \"broccoli\", \"beans\"]\n",
        "for veggie in veggies:\n",
        "    if veggie == \"broccoli\":\n",
        "        continue\n",
        "    print (veggie)"
      ],
      "execution_count": 7,
      "outputs": [
        {
          "output_type": "stream",
          "text": [
            "carrots\n",
            "beans\n"
          ],
          "name": "stdout"
        }
      ]
    },
    {
      "cell_type": "code",
      "metadata": {
        "id": "YWyf9hstiSYa"
      },
      "source": [
        "import numpy as np\n",
        "import pandas as pd"
      ],
      "execution_count": 10,
      "outputs": []
    },
    {
      "cell_type": "code",
      "metadata": {
        "id": "3AWvsIcLiW41"
      },
      "source": [
        "# Set seed for reproducibility\n",
        "np.random.seed(seed=1234)"
      ],
      "execution_count": 9,
      "outputs": []
    },
    {
      "cell_type": "code",
      "metadata": {
        "id": "gPBcZYa1ilds"
      },
      "source": [
        "url = \"https://raw.githubusercontent.com/GokuMohandas/MadeWithML/main/datasets/titanic.csv\"\n",
        "df = pd.read_csv(url, header=0)"
      ],
      "execution_count": 11,
      "outputs": []
    },
    {
      "cell_type": "code",
      "metadata": {
        "colab": {
          "base_uri": "https://localhost:8080/",
          "height": 313
        },
        "id": "_svSxBuaisTM",
        "outputId": "5f2eabbc-1ccc-4855-c4d2-edfbad8aaa25"
      },
      "source": [
        "df.head(3)"
      ],
      "execution_count": 12,
      "outputs": [
        {
          "output_type": "execute_result",
          "data": {
            "text/html": [
              "<div>\n",
              "<style scoped>\n",
              "    .dataframe tbody tr th:only-of-type {\n",
              "        vertical-align: middle;\n",
              "    }\n",
              "\n",
              "    .dataframe tbody tr th {\n",
              "        vertical-align: top;\n",
              "    }\n",
              "\n",
              "    .dataframe thead th {\n",
              "        text-align: right;\n",
              "    }\n",
              "</style>\n",
              "<table border=\"1\" class=\"dataframe\">\n",
              "  <thead>\n",
              "    <tr style=\"text-align: right;\">\n",
              "      <th></th>\n",
              "      <th>pclass</th>\n",
              "      <th>name</th>\n",
              "      <th>sex</th>\n",
              "      <th>age</th>\n",
              "      <th>sibsp</th>\n",
              "      <th>parch</th>\n",
              "      <th>ticket</th>\n",
              "      <th>fare</th>\n",
              "      <th>cabin</th>\n",
              "      <th>embarked</th>\n",
              "      <th>survived</th>\n",
              "    </tr>\n",
              "  </thead>\n",
              "  <tbody>\n",
              "    <tr>\n",
              "      <th>0</th>\n",
              "      <td>1</td>\n",
              "      <td>Allen, Miss. Elisabeth Walton</td>\n",
              "      <td>female</td>\n",
              "      <td>29.0000</td>\n",
              "      <td>0</td>\n",
              "      <td>0</td>\n",
              "      <td>24160</td>\n",
              "      <td>211.3375</td>\n",
              "      <td>B5</td>\n",
              "      <td>S</td>\n",
              "      <td>1</td>\n",
              "    </tr>\n",
              "    <tr>\n",
              "      <th>1</th>\n",
              "      <td>1</td>\n",
              "      <td>Allison, Master. Hudson Trevor</td>\n",
              "      <td>male</td>\n",
              "      <td>0.9167</td>\n",
              "      <td>1</td>\n",
              "      <td>2</td>\n",
              "      <td>113781</td>\n",
              "      <td>151.5500</td>\n",
              "      <td>C22 C26</td>\n",
              "      <td>S</td>\n",
              "      <td>1</td>\n",
              "    </tr>\n",
              "    <tr>\n",
              "      <th>2</th>\n",
              "      <td>1</td>\n",
              "      <td>Allison, Miss. Helen Loraine</td>\n",
              "      <td>female</td>\n",
              "      <td>2.0000</td>\n",
              "      <td>1</td>\n",
              "      <td>2</td>\n",
              "      <td>113781</td>\n",
              "      <td>151.5500</td>\n",
              "      <td>C22 C26</td>\n",
              "      <td>S</td>\n",
              "      <td>0</td>\n",
              "    </tr>\n",
              "  </tbody>\n",
              "</table>\n",
              "</div>"
            ],
            "text/plain": [
              "   pclass                            name     sex  ...    cabin  embarked  survived\n",
              "0       1   Allen, Miss. Elisabeth Walton  female  ...       B5         S         1\n",
              "1       1  Allison, Master. Hudson Trevor    male  ...  C22 C26         S         1\n",
              "2       1    Allison, Miss. Helen Loraine  female  ...  C22 C26         S         0\n",
              "\n",
              "[3 rows x 11 columns]"
            ]
          },
          "metadata": {
            "tags": []
          },
          "execution_count": 12
        }
      ]
    },
    {
      "cell_type": "code",
      "metadata": {
        "id": "2gaN2EqTixcM"
      },
      "source": [
        "import matplotlib.pyplot as plt"
      ],
      "execution_count": 13,
      "outputs": []
    },
    {
      "cell_type": "code",
      "metadata": {
        "colab": {
          "base_uri": "https://localhost:8080/",
          "height": 276
        },
        "id": "V1C3XVodi0Ec",
        "outputId": "f55b81b2-f680-44bb-9a20-3773c9a195a5"
      },
      "source": [
        "plt.matshow(df.corr())\n",
        "continuous_features = df.describe().columns\n",
        "plt.xticks(range(len(continuous_features)), continuous_features, rotation='45')\n",
        "plt.yticks(range(len(continuous_features)), continuous_features, rotation='45')\n",
        "plt.colorbar()\n",
        "plt.show()"
      ],
      "execution_count": 14,
      "outputs": [
        {
          "output_type": "display_data",
          "data": {
            "image/png": "[encoded data removed]",
            "text/plain": [
              "<Figure size 288x288 with 2 Axes>"
            ]
          },
          "metadata": {
            "tags": [],
            "needs_background": "light"
          }
        }
      ]
    },
    {
      "cell_type": "code",
      "metadata": {
        "colab": {
          "base_uri": "https://localhost:8080/",
          "height": 282
        },
        "id": "ffpSpbDXi3qU",
        "outputId": "6a644734-4ca0-47d0-8c57-67442c250d63"
      },
      "source": [
        "df['age'].hist()"
      ],
      "execution_count": 15,
      "outputs": [
        {
          "output_type": "execute_result",
          "data": {
            "text/plain": [
              "<matplotlib.axes._subplots.AxesSubplot at 0x7f297d788350>"
            ]
          },
          "metadata": {
            "tags": []
          },
          "execution_count": 15
        },
        {
          "output_type": "display_data",
          "data": {
            "image/png": "[encoded data removed]",
            "text/plain": [
              "<Figure size 432x288 with 1 Axes>"
            ]
          },
          "metadata": {
            "tags": [],
            "needs_background": "light"
          }
        }
      ]
    },
    {
      "cell_type": "code",
      "metadata": {
        "colab": {
          "base_uri": "https://localhost:8080/"
        },
        "id": "v-sXid22i56W",
        "outputId": "f9aa76f0-37cb-4a40-a2ee-712a7b96f637"
      },
      "source": [
        "df['embarked'].unique()"
      ],
      "execution_count": 16,
      "outputs": [
        {
          "output_type": "execute_result",
          "data": {
            "text/plain": [
              "array(['S', 'C', nan, 'Q'], dtype=object)"
            ]
          },
          "metadata": {
            "tags": []
          },
          "execution_count": 16
        }
      ]
    },
    {
      "cell_type": "code",
      "metadata": {
        "colab": {
          "base_uri": "https://localhost:8080/"
        },
        "id": "U1IqRFtsi9TC",
        "outputId": "a2714a83-1b1d-43b9-f219-5374abf20936"
      },
      "source": [
        "df['name'].head()"
      ],
      "execution_count": 17,
      "outputs": [
        {
          "output_type": "execute_result",
          "data": {
            "text/plain": [
              "0                      Allen, Miss. Elisabeth Walton\n",
              "1                     Allison, Master. Hudson Trevor\n",
              "2                       Allison, Miss. Helen Loraine\n",
              "3               Allison, Mr. Hudson Joshua Creighton\n",
              "4    Allison, Mrs. Hudson J C (Bessie Waldo Daniels)\n",
              "Name: name, dtype: object"
            ]
          },
          "metadata": {
            "tags": []
          },
          "execution_count": 17
        }
      ]
    },
    {
      "cell_type": "code",
      "metadata": {
        "colab": {
          "base_uri": "https://localhost:8080/",
          "height": 542
        },
        "id": "LRxequ_sjA6X",
        "outputId": "a7f7c61b-f116-44ca-cbdb-0bc627ba6f75"
      },
      "source": [
        "# Filtering\n",
        "df[df['sex']=='female'].head()"
      ],
      "execution_count": 18,
      "outputs": [
        {
          "output_type": "execute_result",
          "data": {
            "text/html": [
              "<div>\n",
              "<style scoped>\n",
              "    .dataframe tbody tr th:only-of-type {\n",
              "        vertical-align: middle;\n",
              "    }\n",
              "\n",
              "    .dataframe tbody tr th {\n",
              "        vertical-align: top;\n",
              "    }\n",
              "\n",
              "    .dataframe thead th {\n",
              "        text-align: right;\n",
              "    }\n",
              "</style>\n",
              "<table border=\"1\" class=\"dataframe\">\n",
              "  <thead>\n",
              "    <tr style=\"text-align: right;\">\n",
              "      <th></th>\n",
              "      <th>pclass</th>\n",
              "      <th>name</th>\n",
              "      <th>sex</th>\n",
              "      <th>age</th>\n",
              "      <th>sibsp</th>\n",
              "      <th>parch</th>\n",
              "      <th>ticket</th>\n",
              "      <th>fare</th>\n",
              "      <th>cabin</th>\n",
              "      <th>embarked</th>\n",
              "      <th>survived</th>\n",
              "    </tr>\n",
              "  </thead>\n",
              "  <tbody>\n",
              "    <tr>\n",
              "      <th>0</th>\n",
              "      <td>1</td>\n",
              "      <td>Allen, Miss. Elisabeth Walton</td>\n",
              "      <td>female</td>\n",
              "      <td>29.0</td>\n",
              "      <td>0</td>\n",
              "      <td>0</td>\n",
              "      <td>24160</td>\n",
              "      <td>211.3375</td>\n",
              "      <td>B5</td>\n",
              "      <td>S</td>\n",
              "      <td>1</td>\n",
              "    </tr>\n",
              "    <tr>\n",
              "      <th>2</th>\n",
              "      <td>1</td>\n",
              "      <td>Allison, Miss. Helen Loraine</td>\n",
              "      <td>female</td>\n",
              "      <td>2.0</td>\n",
              "      <td>1</td>\n",
              "      <td>2</td>\n",
              "      <td>113781</td>\n",
              "      <td>151.5500</td>\n",
              "      <td>C22 C26</td>\n",
              "      <td>S</td>\n",
              "      <td>0</td>\n",
              "    </tr>\n",
              "    <tr>\n",
              "      <th>4</th>\n",
              "      <td>1</td>\n",
              "      <td>Allison, Mrs. Hudson J C (Bessie Waldo Daniels)</td>\n",
              "      <td>female</td>\n",
              "      <td>25.0</td>\n",
              "      <td>1</td>\n",
              "      <td>2</td>\n",
              "      <td>113781</td>\n",
              "      <td>151.5500</td>\n",
              "      <td>C22 C26</td>\n",
              "      <td>S</td>\n",
              "      <td>0</td>\n",
              "    </tr>\n",
              "    <tr>\n",
              "      <th>6</th>\n",
              "      <td>1</td>\n",
              "      <td>Andrews, Miss. Kornelia Theodosia</td>\n",
              "      <td>female</td>\n",
              "      <td>63.0</td>\n",
              "      <td>1</td>\n",
              "      <td>0</td>\n",
              "      <td>13502</td>\n",
              "      <td>77.9583</td>\n",
              "      <td>D7</td>\n",
              "      <td>S</td>\n",
              "      <td>1</td>\n",
              "    </tr>\n",
              "    <tr>\n",
              "      <th>8</th>\n",
              "      <td>1</td>\n",
              "      <td>Appleton, Mrs. Edward Dale (Charlotte Lamson)</td>\n",
              "      <td>female</td>\n",
              "      <td>53.0</td>\n",
              "      <td>2</td>\n",
              "      <td>0</td>\n",
              "      <td>11769</td>\n",
              "      <td>51.4792</td>\n",
              "      <td>C101</td>\n",
              "      <td>S</td>\n",
              "      <td>1</td>\n",
              "    </tr>\n",
              "  </tbody>\n",
              "</table>\n",
              "</div>"
            ],
            "text/plain": [
              "   pclass                                             name  ... embarked  survived\n",
              "0       1                    Allen, Miss. Elisabeth Walton  ...        S         1\n",
              "2       1                     Allison, Miss. Helen Loraine  ...        S         0\n",
              "4       1  Allison, Mrs. Hudson J C (Bessie Waldo Daniels)  ...        S         0\n",
              "6       1                Andrews, Miss. Kornelia Theodosia  ...        S         1\n",
              "8       1    Appleton, Mrs. Edward Dale (Charlotte Lamson)  ...        S         1\n",
              "\n",
              "[5 rows x 11 columns]"
            ]
          },
          "metadata": {
            "tags": []
          },
          "execution_count": 18
        }
      ]
    },
    {
      "cell_type": "code",
      "metadata": {
        "colab": {
          "base_uri": "https://localhost:8080/",
          "height": 408
        },
        "id": "Mp-5O__EjE0R",
        "outputId": "698c46e3-41ae-4550-c778-4668dc734d4b"
      },
      "source": [
        "# Sorting\n",
        "df.sort_values('age', ascending=False).head()"
      ],
      "execution_count": 19,
      "outputs": [
        {
          "output_type": "execute_result",
          "data": {
            "text/html": [
              "<div>\n",
              "<style scoped>\n",
              "    .dataframe tbody tr th:only-of-type {\n",
              "        vertical-align: middle;\n",
              "    }\n",
              "\n",
              "    .dataframe tbody tr th {\n",
              "        vertical-align: top;\n",
              "    }\n",
              "\n",
              "    .dataframe thead th {\n",
              "        text-align: right;\n",
              "    }\n",
              "</style>\n",
              "<table border=\"1\" class=\"dataframe\">\n",
              "  <thead>\n",
              "    <tr style=\"text-align: right;\">\n",
              "      <th></th>\n",
              "      <th>pclass</th>\n",
              "      <th>name</th>\n",
              "      <th>sex</th>\n",
              "      <th>age</th>\n",
              "      <th>sibsp</th>\n",
              "      <th>parch</th>\n",
              "      <th>ticket</th>\n",
              "      <th>fare</th>\n",
              "      <th>cabin</th>\n",
              "      <th>embarked</th>\n",
              "      <th>survived</th>\n",
              "    </tr>\n",
              "  </thead>\n",
              "  <tbody>\n",
              "    <tr>\n",
              "      <th>14</th>\n",
              "      <td>1</td>\n",
              "      <td>Barkworth, Mr. Algernon Henry Wilson</td>\n",
              "      <td>male</td>\n",
              "      <td>80.0</td>\n",
              "      <td>0</td>\n",
              "      <td>0</td>\n",
              "      <td>27042</td>\n",
              "      <td>30.0000</td>\n",
              "      <td>A23</td>\n",
              "      <td>S</td>\n",
              "      <td>1</td>\n",
              "    </tr>\n",
              "    <tr>\n",
              "      <th>61</th>\n",
              "      <td>1</td>\n",
              "      <td>Cavendish, Mrs. Tyrell William (Julia Florence...</td>\n",
              "      <td>female</td>\n",
              "      <td>76.0</td>\n",
              "      <td>1</td>\n",
              "      <td>0</td>\n",
              "      <td>19877</td>\n",
              "      <td>78.8500</td>\n",
              "      <td>C46</td>\n",
              "      <td>S</td>\n",
              "      <td>1</td>\n",
              "    </tr>\n",
              "    <tr>\n",
              "      <th>1235</th>\n",
              "      <td>3</td>\n",
              "      <td>Svensson, Mr. Johan</td>\n",
              "      <td>male</td>\n",
              "      <td>74.0</td>\n",
              "      <td>0</td>\n",
              "      <td>0</td>\n",
              "      <td>347060</td>\n",
              "      <td>7.7750</td>\n",
              "      <td>NaN</td>\n",
              "      <td>S</td>\n",
              "      <td>0</td>\n",
              "    </tr>\n",
              "    <tr>\n",
              "      <th>135</th>\n",
              "      <td>1</td>\n",
              "      <td>Goldschmidt, Mr. George B</td>\n",
              "      <td>male</td>\n",
              "      <td>71.0</td>\n",
              "      <td>0</td>\n",
              "      <td>0</td>\n",
              "      <td>PC 17754</td>\n",
              "      <td>34.6542</td>\n",
              "      <td>A5</td>\n",
              "      <td>C</td>\n",
              "      <td>0</td>\n",
              "    </tr>\n",
              "    <tr>\n",
              "      <th>9</th>\n",
              "      <td>1</td>\n",
              "      <td>Artagaveytia, Mr. Ramon</td>\n",
              "      <td>male</td>\n",
              "      <td>71.0</td>\n",
              "      <td>0</td>\n",
              "      <td>0</td>\n",
              "      <td>PC 17609</td>\n",
              "      <td>49.5042</td>\n",
              "      <td>NaN</td>\n",
              "      <td>C</td>\n",
              "      <td>0</td>\n",
              "    </tr>\n",
              "  </tbody>\n",
              "</table>\n",
              "</div>"
            ],
            "text/plain": [
              "      pclass  ... survived\n",
              "14         1  ...        1\n",
              "61         1  ...        1\n",
              "1235       3  ...        0\n",
              "135        1  ...        0\n",
              "9          1  ...        0\n",
              "\n",
              "[5 rows x 11 columns]"
            ]
          },
          "metadata": {
            "tags": []
          },
          "execution_count": 19
        }
      ]
    },
    {
      "cell_type": "code",
      "metadata": {
        "id": "v-PiJXDejNj8"
      },
      "source": [
        "import numpy as np\n",
        "import torch\n"
      ],
      "execution_count": 20,
      "outputs": []
    },
    {
      "cell_type": "code",
      "metadata": {
        "id": "X_kJYTugjS8x"
      },
      "source": [
        "SEED = 1234"
      ],
      "execution_count": 21,
      "outputs": []
    },
    {
      "cell_type": "code",
      "metadata": {
        "colab": {
          "base_uri": "https://localhost:8080/"
        },
        "id": "yk299raIjUV7",
        "outputId": "3c8ae6bd-12af-467e-f68d-c7fdba583d13"
      },
      "source": [
        "# Set seed for reproducibility\n",
        "np.random.seed(seed=SEED)\n",
        "torch.manual_seed(SEED)"
      ],
      "execution_count": 22,
      "outputs": [
        {
          "output_type": "execute_result",
          "data": {
            "text/plain": [
              "<torch._C.Generator at 0x7f292508c3f0>"
            ]
          },
          "metadata": {
            "tags": []
          },
          "execution_count": 22
        }
      ]
    },
    {
      "cell_type": "code",
      "metadata": {
        "id": "i7nIwORTj6Hp"
      },
      "source": [
        "import numpy as np\n",
        "import pandas as pd\n",
        "import matplotlib.pyplot as plt\n"
      ],
      "execution_count": 23,
      "outputs": []
    },
    {
      "cell_type": "code",
      "metadata": {
        "id": "pWaR75Kuj8bm"
      },
      "source": [
        "SEED = 1234\n",
        "NUM_SAMPLES = 50"
      ],
      "execution_count": 24,
      "outputs": []
    },
    {
      "cell_type": "code",
      "metadata": {
        "id": "SDXsoKbtj-X_"
      },
      "source": [
        "np.random.seed(SEED)"
      ],
      "execution_count": 25,
      "outputs": []
    },
    {
      "cell_type": "code",
      "metadata": {
        "id": "mVnmhzqzkAFq"
      },
      "source": [
        "def generate_data(num_samples):\n",
        "    \"\"\"Generate dummy data for linear regression.\"\"\"\n",
        "    X = np.array(range(num_samples))\n",
        "    random_noise = np.random.uniform(-10,20,size=num_samples)\n",
        "    y = 3.5*X + random_noise # add some noise\n",
        "    return X, y"
      ],
      "execution_count": 26,
      "outputs": []
    },
    {
      "cell_type": "code",
      "metadata": {
        "colab": {
          "base_uri": "https://localhost:8080/"
        },
        "id": "jHNyzf6PkCST",
        "outputId": "ec8bbd84-d3b8-48df-f2df-30e4a87b64c7"
      },
      "source": [
        "# Generate random (linear) data\n",
        "X, y = generate_data(num_samples=NUM_SAMPLES)\n",
        "data = np.vstack([X, y]).T\n",
        "print (data[:5])"
      ],
      "execution_count": 27,
      "outputs": [
        {
          "output_type": "stream",
          "text": [
            "[[ 0.         -4.25441649]\n",
            " [ 1.         12.16326313]\n",
            " [ 2.         10.13183217]\n",
            " [ 3.         24.06075751]\n",
            " [ 4.         27.39927424]]\n"
          ],
          "name": "stdout"
        }
      ]
    },
    {
      "cell_type": "code",
      "metadata": {
        "colab": {
          "base_uri": "https://localhost:8080/",
          "height": 203
        },
        "id": "iU9lsWjckEsZ",
        "outputId": "98881720-3d02-4808-9108-e038f45203fa"
      },
      "source": [
        "# Load into a Pandas DataFrame\n",
        "df = pd.DataFrame(data, columns=['X', 'y'])\n",
        "X = df[['X']].values\n",
        "y = df[['y']].values\n",
        "df.head()"
      ],
      "execution_count": 28,
      "outputs": [
        {
          "output_type": "execute_result",
          "data": {
            "text/html": [
              "<div>\n",
              "<style scoped>\n",
              "    .dataframe tbody tr th:only-of-type {\n",
              "        vertical-align: middle;\n",
              "    }\n",
              "\n",
              "    .dataframe tbody tr th {\n",
              "        vertical-align: top;\n",
              "    }\n",
              "\n",
              "    .dataframe thead th {\n",
              "        text-align: right;\n",
              "    }\n",
              "</style>\n",
              "<table border=\"1\" class=\"dataframe\">\n",
              "  <thead>\n",
              "    <tr style=\"text-align: right;\">\n",
              "      <th></th>\n",
              "      <th>X</th>\n",
              "      <th>y</th>\n",
              "    </tr>\n",
              "  </thead>\n",
              "  <tbody>\n",
              "    <tr>\n",
              "      <th>0</th>\n",
              "      <td>0.0</td>\n",
              "      <td>-4.254416</td>\n",
              "    </tr>\n",
              "    <tr>\n",
              "      <th>1</th>\n",
              "      <td>1.0</td>\n",
              "      <td>12.163263</td>\n",
              "    </tr>\n",
              "    <tr>\n",
              "      <th>2</th>\n",
              "      <td>2.0</td>\n",
              "      <td>10.131832</td>\n",
              "    </tr>\n",
              "    <tr>\n",
              "      <th>3</th>\n",
              "      <td>3.0</td>\n",
              "      <td>24.060758</td>\n",
              "    </tr>\n",
              "    <tr>\n",
              "      <th>4</th>\n",
              "      <td>4.0</td>\n",
              "      <td>27.399274</td>\n",
              "    </tr>\n",
              "  </tbody>\n",
              "</table>\n",
              "</div>"
            ],
            "text/plain": [
              "     X          y\n",
              "0  0.0  -4.254416\n",
              "1  1.0  12.163263\n",
              "2  2.0  10.131832\n",
              "3  3.0  24.060758\n",
              "4  4.0  27.399274"
            ]
          },
          "metadata": {
            "tags": []
          },
          "execution_count": 28
        }
      ]
    },
    {
      "cell_type": "code",
      "metadata": {
        "colab": {
          "base_uri": "https://localhost:8080/",
          "height": 281
        },
        "id": "iFfdCPZqkHf_",
        "outputId": "a22a788d-6a62-42e7-f715-c53adaf9de67"
      },
      "source": [
        "# Scatter plot\n",
        "plt.title(\"Generated data\")\n",
        "plt.scatter(x=df['X'], y=df['y'])\n",
        "plt.show()"
      ],
      "execution_count": 30,
      "outputs": [
        {
          "output_type": "display_data",
          "data": {
            "image/png": "[encoded data removed]",
            "text/plain": [
              "<Figure size 432x288 with 1 Axes>"
            ]
          },
          "metadata": {
            "tags": [],
            "needs_background": "light"
          }
        }
      ]
    },
    {
      "cell_type": "code",
      "metadata": {
        "id": "c-nedgjXkPuZ"
      },
      "source": [
        "TRAIN_SIZE = 0.7\n",
        "VAL_SIZE = 0.15\n",
        "TEST_SIZE = 0.15"
      ],
      "execution_count": 31,
      "outputs": []
    },
    {
      "cell_type": "code",
      "metadata": {
        "id": "y09JxgwZkR7T"
      },
      "source": [
        "# Shuffle data\n",
        "indices = list(range(NUM_SAMPLES))\n",
        "np.random.shuffle(indices)\n",
        "X = X[indices]\n",
        "y = y[indices]"
      ],
      "execution_count": 32,
      "outputs": []
    },
    {
      "cell_type": "code",
      "metadata": {
        "id": "RlS1aisFkUT-"
      },
      "source": [
        "# Split indices\n",
        "train_start = 0\n",
        "train_end = int(0.7*NUM_SAMPLES)\n",
        "val_start = train_end\n",
        "val_end = int((TRAIN_SIZE+VAL_SIZE)*NUM_SAMPLES)\n",
        "test_start = val_end"
      ],
      "execution_count": 33,
      "outputs": []
    },
    {
      "cell_type": "code",
      "metadata": {
        "colab": {
          "base_uri": "https://localhost:8080/"
        },
        "id": "vzy_v0h1kWRw",
        "outputId": "7ec616ae-6bac-4d80-b6b0-7279a0e39301"
      },
      "source": [
        "# Split data\n",
        "X_train = X[train_start:train_end]\n",
        "y_train = y[train_start:train_end]\n",
        "X_val = X[val_start:val_end]\n",
        "y_val = y[val_start:val_end]\n",
        "X_test = X[test_start:]\n",
        "y_test = y[test_start:]\n",
        "print (f\"X_train: {X_train.shape}, y_train: {y_train.shape}\")\n",
        "print (f\"X_val: {X_val.shape}, y_test: {y_val.shape}\")\n",
        "print (f\"X_test: {X_test.shape}, y_test: {y_test.shape}\")"
      ],
      "execution_count": 34,
      "outputs": [
        {
          "output_type": "stream",
          "text": [
            "X_train: (35, 1), y_train: (35, 1)\n",
            "X_val: (7, 1), y_test: (7, 1)\n",
            "X_test: (8, 1), y_test: (8, 1)\n"
          ],
          "name": "stdout"
        }
      ]
    },
    {
      "cell_type": "code",
      "metadata": {
        "id": "OIqgHOzLkY1F"
      },
      "source": [
        "def standardize_data(data, mean, std):\n",
        "    return (data - mean)/std"
      ],
      "execution_count": 35,
      "outputs": []
    },
    {
      "cell_type": "code",
      "metadata": {
        "id": "IYc3YdSekajD"
      },
      "source": [
        "# Determine means and stds\n",
        "X_mean = np.mean(X_train)\n",
        "X_std = np.std(X_train)\n",
        "y_mean = np.mean(y_train)\n",
        "y_std = np.std(y_train)"
      ],
      "execution_count": 36,
      "outputs": []
    },
    {
      "cell_type": "code",
      "metadata": {
        "id": "2O7y6CDakdQI"
      },
      "source": [
        "# Standardize\n",
        "X_train = standardize_data(X_train, X_mean, X_std)\n",
        "y_train = standardize_data(y_train, y_mean, y_std)\n",
        "X_val = standardize_data(X_val, X_mean, X_std)\n",
        "y_val = standardize_data(y_val, y_mean, y_std)\n",
        "X_test = standardize_data(X_test, X_mean, X_std)\n",
        "y_test = standardize_data(y_test, y_mean, y_std)"
      ],
      "execution_count": 37,
      "outputs": []
    },
    {
      "cell_type": "code",
      "metadata": {
        "colab": {
          "base_uri": "https://localhost:8080/"
        },
        "id": "o6YcAHfDkf6l",
        "outputId": "9e3d8350-c441-4774-c1f6-436b901c45e1"
      },
      "source": [
        "# Check (means should be ~0 and std should be ~1)\n",
        "# Check (means should be ~0 and std should be ~1)\n",
        "print (f\"mean: {np.mean(X_test, axis=0)[0]:.1f}, std: {np.std(X_test, axis=0)[0]:.1f}\")\n",
        "print (f\"mean: {np.mean(y_test, axis=0)[0]:.1f}, std: {np.std(y_test, axis=0)[0]:.1f}\")"
      ],
      "execution_count": 38,
      "outputs": [
        {
          "output_type": "stream",
          "text": [
            "mean: -0.6, std: 0.9\n",
            "mean: -0.6, std: 0.9\n"
          ],
          "name": "stdout"
        }
      ]
    },
    {
      "cell_type": "code",
      "metadata": {
        "id": "jK3w7u1jkiv_"
      },
      "source": [
        "INPUT_DIM = X_train.shape[1] # X is 1-dimensional\n",
        "OUTPUT_DIM = y_train.shape[1] # y is 1-dimensional"
      ],
      "execution_count": 39,
      "outputs": []
    },
    {
      "cell_type": "code",
      "metadata": {
        "colab": {
          "base_uri": "https://localhost:8080/"
        },
        "id": "W4TuAg_-kmjU",
        "outputId": "f382f2c2-4d52-48e6-d26d-f27c5334311f"
      },
      "source": [
        "# Initialize random weights\n",
        "W = 0.01 * np.random.randn(INPUT_DIM, OUTPUT_DIM)\n",
        "b = np.zeros((1, 1))\n",
        "print (f\"W: {W.shape}\")\n",
        "print (f\"b: {b.shape}\")"
      ],
      "execution_count": 40,
      "outputs": [
        {
          "output_type": "stream",
          "text": [
            "W: (1, 1)\n",
            "b: (1, 1)\n"
          ],
          "name": "stdout"
        }
      ]
    },
    {
      "cell_type": "code",
      "metadata": {
        "colab": {
          "base_uri": "https://localhost:8080/"
        },
        "id": "Xkd8ueMrko8q",
        "outputId": "71a487f0-dabf-44ba-a207-4e7233e2872d"
      },
      "source": [
        "# Forward pass [NX1] · [1X1] = [NX1]\n",
        "y_pred = np.dot(X_train, W) + b\n",
        "print (f\"y_pred: {y_pred.shape}\")"
      ],
      "execution_count": 41,
      "outputs": [
        {
          "output_type": "stream",
          "text": [
            "y_pred: (35, 1)\n"
          ],
          "name": "stdout"
        }
      ]
    },
    {
      "cell_type": "code",
      "metadata": {
        "colab": {
          "base_uri": "https://localhost:8080/"
        },
        "id": "IOVDzeEJkrYN",
        "outputId": "2c97b1ed-0040-4fc2-d19a-935e1b3146a5"
      },
      "source": [
        "# Loss\n",
        "N = len(y_train)\n",
        "loss = (1/N) * np.sum((y_train - y_pred)**2)\n",
        "print (f\"loss: {loss:.2f}\")"
      ],
      "execution_count": 42,
      "outputs": [
        {
          "output_type": "stream",
          "text": [
            "loss: 0.99\n"
          ],
          "name": "stdout"
        }
      ]
    },
    {
      "cell_type": "code",
      "metadata": {
        "id": "W6CtwY53kt9Z"
      },
      "source": [
        "# Backpropagation\n",
        "dW = -(2/N) * np.sum((y_train - y_pred) * X_train)\n",
        "db = -(2/N) * np.sum((y_train - y_pred) * 1)"
      ],
      "execution_count": 43,
      "outputs": []
    },
    {
      "cell_type": "code",
      "metadata": {
        "id": "wh-fFNR7kwp4"
      },
      "source": [
        "LEARNING_RATE = 1e-1"
      ],
      "execution_count": 44,
      "outputs": []
    },
    {
      "cell_type": "code",
      "metadata": {
        "id": "tU397ot1kx6i"
      },
      "source": [
        "# Update weights\n",
        "W += -LEARNING_RATE * dW\n",
        "b += -LEARNING_RATE * db"
      ],
      "execution_count": 45,
      "outputs": []
    },
    {
      "cell_type": "code",
      "metadata": {
        "id": "UFgF6Vttk02u"
      },
      "source": [
        "NUM_EPOCHS = 100"
      ],
      "execution_count": 46,
      "outputs": []
    },
    {
      "cell_type": "code",
      "metadata": {
        "colab": {
          "base_uri": "https://localhost:8080/"
        },
        "id": "Ts_DS5x-k2Le",
        "outputId": "0f758ab5-c1ae-4b33-fcd7-b177a2d3dc91"
      },
      "source": [
        "# Initialize random weights\n",
        "W = 0.01 * np.random.randn(INPUT_DIM, OUTPUT_DIM)\n",
        "b = np.zeros((1, ))\n",
        "\n",
        "# Training loop\n",
        "for epoch_num in range(NUM_EPOCHS):\n",
        "\n",
        "    # Forward pass [NX1] · [1X1] = [NX1]\n",
        "    y_pred = np.dot(X_train, W) + b\n",
        "\n",
        "    # Loss\n",
        "    loss = (1/len(y_train)) * np.sum((y_train - y_pred)**2)\n",
        "\n",
        "    # Show progress\n",
        "    if epoch_num%10 == 0:\n",
        "        print (f\"Epoch: {epoch_num}, loss: {loss:.3f}\")\n",
        "\n",
        "    # Backpropagation\n",
        "    dW = -(2/N) * np.sum((y_train - y_pred) * X_train)\n",
        "    db = -(2/N) * np.sum((y_train - y_pred) * 1)\n",
        "\n",
        "    # Update weights\n",
        "    W += -LEARNING_RATE * dW\n",
        "    b += -LEARNING_RATE * db"
      ],
      "execution_count": 47,
      "outputs": [
        {
          "output_type": "stream",
          "text": [
            "Epoch: 0, loss: 0.990\n",
            "Epoch: 10, loss: 0.039\n",
            "Epoch: 20, loss: 0.028\n",
            "Epoch: 30, loss: 0.028\n",
            "Epoch: 40, loss: 0.028\n",
            "Epoch: 50, loss: 0.028\n",
            "Epoch: 60, loss: 0.028\n",
            "Epoch: 70, loss: 0.028\n",
            "Epoch: 80, loss: 0.028\n",
            "Epoch: 90, loss: 0.028\n"
          ],
          "name": "stdout"
        }
      ]
    },
    {
      "cell_type": "code",
      "metadata": {
        "id": "n9BkzQlgk42D"
      },
      "source": [
        "# Predictions\n",
        "pred_train = W*X_train + b\n",
        "pred_test = W*X_test + b"
      ],
      "execution_count": 48,
      "outputs": []
    },
    {
      "cell_type": "code",
      "metadata": {
        "colab": {
          "base_uri": "https://localhost:8080/"
        },
        "id": "9DkS0Jzdk7B-",
        "outputId": "48557d81-0a28-4700-dc4e-3d1938f4859e"
      },
      "source": [
        "# Train and test MSE\n",
        "train_mse = np.mean((y_train - pred_train) ** 2)\n",
        "test_mse = np.mean((y_test - pred_test) ** 2)\n",
        "print (f\"train_MSE: {train_mse:.2f}, test_MSE: {test_mse:.2f}\")"
      ],
      "execution_count": 49,
      "outputs": [
        {
          "output_type": "stream",
          "text": [
            "train_MSE: 0.03, test_MSE: 0.01\n"
          ],
          "name": "stdout"
        }
      ]
    },
    {
      "cell_type": "code",
      "metadata": {
        "colab": {
          "base_uri": "https://localhost:8080/",
          "height": 245
        },
        "id": "OiC_e09Mk-EK",
        "outputId": "25188467-9589-42f9-ee46-b5ccec5ef082"
      },
      "source": [
        "# Figure size\n",
        "plt.figure(figsize=(15,5))\n",
        "\n",
        "# Plot train data\n",
        "plt.subplot(1, 2, 1)\n",
        "plt.title(\"Train\")\n",
        "plt.scatter(X_train, y_train, label='y_train')\n",
        "plt.plot(X_train, pred_train, color='red', linewidth=1, linestyle='-', label='model')\n",
        "plt.legend(loc='lower right')\n",
        "\n",
        "# Plot test data\n",
        "plt.subplot(1, 2, 2)\n",
        "plt.title(\"Test\")\n",
        "plt.scatter(X_test, y_test, label='y_test')\n",
        "plt.plot(X_test, pred_test, color='red', linewidth=1, linestyle='-', label='model')\n",
        "plt.legend(loc='lower right')\n",
        "\n",
        "# Show plots\n",
        "plt.show()"
      ],
      "execution_count": 50,
      "outputs": [
        {
          "output_type": "display_data",
          "data": {
            "image/png": "[encoded data removed]",
            "text/plain": [
              "<Figure size 1080x360 with 2 Axes>"
            ]
          },
          "metadata": {
            "tags": [],
            "needs_background": "light"
          }
        }
      ]
    },
    {
      "cell_type": "code",
      "metadata": {
        "colab": {
          "base_uri": "https://localhost:8080/"
        },
        "id": "mQSsz3gelNuL",
        "outputId": "0569c779-8366-4dd1-f9e7-b4c77a7993b7"
      },
      "source": [
        "# Unscaled weights\n",
        "W_unscaled = W * (y_std/X_std)\n",
        "b_unscaled = b * y_std + y_mean - np.sum(W_unscaled*X_mean)\n",
        "print (\"[actual] y = 3.5X + noise\")\n",
        "print (f\"[model] y_hat = {W_unscaled[0][0]:.1f}X + {b_unscaled[0]:.1f}\")"
      ],
      "execution_count": 51,
      "outputs": [
        {
          "output_type": "stream",
          "text": [
            "[actual] y = 3.5X + noise\n",
            "[model] y_hat = 3.4X + 7.8\n"
          ],
          "name": "stdout"
        }
      ]
    },
    {
      "cell_type": "code",
      "metadata": {
        "id": "uP9q50AOlOp9"
      },
      "source": [
        "import torch"
      ],
      "execution_count": 52,
      "outputs": []
    },
    {
      "cell_type": "code",
      "metadata": {
        "colab": {
          "base_uri": "https://localhost:8080/"
        },
        "id": "XsbdcI9GlRH7",
        "outputId": "491e279e-cfee-426d-96d4-21e0118ab260"
      },
      "source": [
        "# Set seed for reproducibility\n",
        "torch.manual_seed(SEED)"
      ],
      "execution_count": 53,
      "outputs": [
        {
          "output_type": "execute_result",
          "data": {
            "text/plain": [
              "<torch._C.Generator at 0x7f292508c3f0>"
            ]
          },
          "metadata": {
            "tags": []
          },
          "execution_count": 53
        }
      ]
    },
    {
      "cell_type": "code",
      "metadata": {
        "id": "WtqUmejKlTdS"
      },
      "source": [
        "from sklearn.model_selection import train_test_split"
      ],
      "execution_count": 54,
      "outputs": []
    },
    {
      "cell_type": "code",
      "metadata": {
        "id": "bb4dQRVJlUou"
      },
      "source": [
        "TRAIN_SIZE = 0.7\n",
        "VAL_SIZE = 0.15\n",
        "TEST_SIZE = 0.15"
      ],
      "execution_count": 55,
      "outputs": []
    },
    {
      "cell_type": "code",
      "metadata": {
        "id": "g2JDEUfYlWDZ"
      },
      "source": [
        "# Split (train)\n",
        "X_train, X_, y_train, y_ = train_test_split(X, y, train_size=TRAIN_SIZE)"
      ],
      "execution_count": 56,
      "outputs": []
    },
    {
      "cell_type": "code",
      "metadata": {
        "colab": {
          "base_uri": "https://localhost:8080/"
        },
        "id": "_U8KR54slXw_",
        "outputId": "341c82ff-e38e-4c2a-ce1f-db4f49a89fec"
      },
      "source": [
        "print (f\"train: {len(X_train)} ({(len(X_train) / len(X)):.2f})\\n\"\n",
        "       f\"remaining: {len(X_)} ({(len(X_) / len(X)):.2f})\")"
      ],
      "execution_count": 57,
      "outputs": [
        {
          "output_type": "stream",
          "text": [
            "train: 35 (0.70)\n",
            "remaining: 15 (0.30)\n"
          ],
          "name": "stdout"
        }
      ]
    },
    {
      "cell_type": "code",
      "metadata": {
        "id": "6KzCoCRqlZJs"
      },
      "source": [
        "# Split (test)\n",
        "X_val, X_test, y_val, y_test = train_test_split(\n",
        "    X_, y_, train_size=0.5)"
      ],
      "execution_count": 58,
      "outputs": []
    },
    {
      "cell_type": "code",
      "metadata": {
        "colab": {
          "base_uri": "https://localhost:8080/"
        },
        "id": "fGmvaLiQlahZ",
        "outputId": "b2e37df1-85b4-4410-be69-928f9d2c9f61"
      },
      "source": [
        "print(f\"train: {len(X_train)} ({len(X_train)/len(X):.2f})\\n\"\n",
        "      f\"val: {len(X_val)} ({len(X_val)/len(X):.2f})\\n\"\n",
        "      f\"test: {len(X_test)} ({len(X_test)/len(X):.2f})\")"
      ],
      "execution_count": 59,
      "outputs": [
        {
          "output_type": "stream",
          "text": [
            "train: 35 (0.70)\n",
            "val: 7 (0.14)\n",
            "test: 8 (0.16)\n"
          ],
          "name": "stdout"
        }
      ]
    },
    {
      "cell_type": "code",
      "metadata": {
        "id": "-cD_cD3xlcor"
      },
      "source": [
        "from sklearn.preprocessing import StandardScaler"
      ],
      "execution_count": 60,
      "outputs": []
    },
    {
      "cell_type": "code",
      "metadata": {
        "id": "SdiXwn_Bldy4"
      },
      "source": [
        "# Standardize the data (mean=0, std=1) using training data\n",
        "X_scaler = StandardScaler().fit(X_train)\n",
        "y_scaler = StandardScaler().fit(y_train)"
      ],
      "execution_count": 61,
      "outputs": []
    },
    {
      "cell_type": "code",
      "metadata": {
        "id": "LRTjIv3ulfd2"
      },
      "source": [
        "# Apply scaler on training and test data\n",
        "X_train = X_scaler.transform(X_train)\n",
        "y_train = y_scaler.transform(y_train).ravel().reshape(-1, 1)\n",
        "X_val = X_scaler.transform(X_val)\n",
        "y_val = y_scaler.transform(y_val).ravel().reshape(-1, 1)\n",
        "X_test = X_scaler.transform(X_test)\n",
        "y_test = y_scaler.transform(y_test).ravel().reshape(-1, 1)"
      ],
      "execution_count": 62,
      "outputs": []
    },
    {
      "cell_type": "code",
      "metadata": {
        "colab": {
          "base_uri": "https://localhost:8080/"
        },
        "id": "mOdSgwAFlhuG",
        "outputId": "a7e9b454-cd21-4e40-de9b-a9e2f28476e2"
      },
      "source": [
        "# Check (means should be ~0 and std should be ~1)\n",
        "print (f\"mean: {np.mean(X_test, axis=0)[0]:.1f}, std: {np.std(X_test, axis=0)[0]:.1f}\")\n",
        "print (f\"mean: {np.mean(y_test, axis=0)[0]:.1f}, std: {np.std(y_test, axis=0)[0]:.1f}\")"
      ],
      "execution_count": 63,
      "outputs": [
        {
          "output_type": "stream",
          "text": [
            "mean: -0.5, std: 0.8\n",
            "mean: -0.5, std: 0.8\n"
          ],
          "name": "stdout"
        }
      ]
    },
    {
      "cell_type": "code",
      "metadata": {
        "id": "xHEWAkVgljvy"
      },
      "source": [
        "from torch import nn"
      ],
      "execution_count": 64,
      "outputs": []
    },
    {
      "cell_type": "code",
      "metadata": {
        "colab": {
          "base_uri": "https://localhost:8080/"
        },
        "id": "w3sUwptXllmm",
        "outputId": "5ef147a9-ac5c-461e-e2d8-dab6ee9c2c75"
      },
      "source": [
        "# Inputs\n",
        "N = 3 # num samples\n",
        "x = torch.randn(N, INPUT_DIM)\n",
        "print (x.shape)\n",
        "print (x.numpy())"
      ],
      "execution_count": 65,
      "outputs": [
        {
          "output_type": "stream",
          "text": [
            "torch.Size([3, 1])\n",
            "[[ 0.04613046]\n",
            " [ 0.40240282]\n",
            " [-1.0115291 ]]\n"
          ],
          "name": "stdout"
        }
      ]
    },
    {
      "cell_type": "code",
      "metadata": {
        "colab": {
          "base_uri": "https://localhost:8080/"
        },
        "id": "GDW-2TVGlnNv",
        "outputId": "2be3ae09-a682-4cad-f6f3-74fa3a80d214"
      },
      "source": [
        "# Weights\n",
        "m = nn.Linear(INPUT_DIM, OUTPUT_DIM)\n",
        "print (m)\n",
        "print (f\"weights ({m.weight.shape}): {m.weight[0][0]}\")\n",
        "print (f\"bias ({m.bias.shape}): {m.bias[0]}\")"
      ],
      "execution_count": 66,
      "outputs": [
        {
          "output_type": "stream",
          "text": [
            "Linear(in_features=1, out_features=1, bias=True)\n",
            "weights (torch.Size([1, 1])): 0.34761226177215576\n",
            "bias (torch.Size([1])): -0.3370760679244995\n"
          ],
          "name": "stdout"
        }
      ]
    },
    {
      "cell_type": "code",
      "metadata": {
        "colab": {
          "base_uri": "https://localhost:8080/"
        },
        "id": "2jBCaW8WlouH",
        "outputId": "b3e6c42a-159e-49b6-fa65-7b386e67908e"
      },
      "source": [
        "# Forward pass\n",
        "z = m(x)\n",
        "print (z.shape)\n",
        "print (z.detach().numpy())"
      ],
      "execution_count": 67,
      "outputs": [
        {
          "output_type": "stream",
          "text": [
            "torch.Size([3, 1])\n",
            "[[-0.32104054]\n",
            " [-0.19719592]\n",
            " [-0.68869597]]\n"
          ],
          "name": "stdout"
        }
      ]
    },
    {
      "cell_type": "code",
      "metadata": {
        "id": "wB_sP5AhlrOc"
      },
      "source": [
        "class LinearRegression(nn.Module):\n",
        "    def __init__(self, input_dim, output_dim):\n",
        "        super(LinearRegression, self).__init__()\n",
        "        self.fc1 = nn.Linear(input_dim, output_dim)\n",
        "\n",
        "    def forward(self, x_in):\n",
        "        y_pred = self.fc1(x_in)\n",
        "        return y_pred"
      ],
      "execution_count": 68,
      "outputs": []
    },
    {
      "cell_type": "code",
      "metadata": {
        "colab": {
          "base_uri": "https://localhost:8080/"
        },
        "id": "cdKjxSLIls0P",
        "outputId": "9e6d3b1f-1659-4773-ae7a-5ac803cc4b5d"
      },
      "source": [
        "# Initialize model\n",
        "model = LinearRegression(input_dim=INPUT_DIM, output_dim=OUTPUT_DIM)\n",
        "print (model.named_parameters)"
      ],
      "execution_count": 69,
      "outputs": [
        {
          "output_type": "stream",
          "text": [
            "<bound method Module.named_parameters of LinearRegression(\n",
            "  (fc1): Linear(in_features=1, out_features=1, bias=True)\n",
            ")>\n"
          ],
          "name": "stdout"
        }
      ]
    },
    {
      "cell_type": "code",
      "metadata": {
        "colab": {
          "base_uri": "https://localhost:8080/"
        },
        "id": "Cj9wjcAslvv1",
        "outputId": "e9e09853-cbd7-426e-c556-710a53e43098"
      },
      "source": [
        "loss_fn = nn.MSELoss()\n",
        "y_pred = torch.Tensor([0., 0., 1., 1.])\n",
        "y_true =  torch.Tensor([1., 1., 1., 0.])\n",
        "loss = loss_fn(y_pred, y_true)\n",
        "print('Loss: ', loss.numpy())"
      ],
      "execution_count": 70,
      "outputs": [
        {
          "output_type": "stream",
          "text": [
            "Loss:  0.75\n"
          ],
          "name": "stdout"
        }
      ]
    },
    {
      "cell_type": "code",
      "metadata": {
        "id": "rTX13bUylxr-"
      },
      "source": [
        "from torch.optim import Adam"
      ],
      "execution_count": 71,
      "outputs": []
    },
    {
      "cell_type": "code",
      "metadata": {
        "id": "hg13Z07Hly2D"
      },
      "source": [
        "# Optimizer\n",
        "optimizer = Adam(model.parameters(), lr=LEARNING_RATE)"
      ],
      "execution_count": 72,
      "outputs": []
    },
    {
      "cell_type": "code",
      "metadata": {
        "id": "0u9BHhmql0mN"
      },
      "source": [
        "# Convert data to tensors\n",
        "X_train = torch.Tensor(X_train)\n",
        "y_train = torch.Tensor(y_train)\n",
        "X_val = torch.Tensor(X_val)\n",
        "y_val = torch.Tensor(y_val)\n",
        "X_test = torch.Tensor(X_test)\n",
        "y_test = torch.Tensor(y_test)"
      ],
      "execution_count": 73,
      "outputs": []
    },
    {
      "cell_type": "code",
      "metadata": {
        "colab": {
          "base_uri": "https://localhost:8080/"
        },
        "id": "S1faUZlol15f",
        "outputId": "2a855fb3-42fe-4bea-c993-6b7c8643124a"
      },
      "source": [
        "# Training\n",
        "for epoch in range(NUM_EPOCHS):\n",
        "    # Forward pass\n",
        "    y_pred = model(X_train)\n",
        "\n",
        "    # Loss\n",
        "    loss = loss_fn(y_pred, y_train)\n",
        "\n",
        "    # Zero all gradients\n",
        "    optimizer.zero_grad()\n",
        "\n",
        "    # Backward pass\n",
        "    loss.backward()\n",
        "\n",
        "    # Update weights\n",
        "    optimizer.step()\n",
        "\n",
        "    if epoch%20==0:\n",
        "        print (f\"Epoch: {epoch} | loss: {loss:.2f}\")"
      ],
      "execution_count": 74,
      "outputs": [
        {
          "output_type": "stream",
          "text": [
            "Epoch: 0 | loss: 0.22\n",
            "Epoch: 20 | loss: 0.03\n",
            "Epoch: 40 | loss: 0.02\n",
            "Epoch: 60 | loss: 0.02\n",
            "Epoch: 80 | loss: 0.02\n"
          ],
          "name": "stdout"
        }
      ]
    },
    {
      "cell_type": "code",
      "metadata": {
        "id": "8SiecXZKl3yb"
      },
      "source": [
        "# Predictions\n",
        "pred_train = model(X_train)\n",
        "pred_test = model(X_test)"
      ],
      "execution_count": 75,
      "outputs": []
    },
    {
      "cell_type": "code",
      "metadata": {
        "colab": {
          "base_uri": "https://localhost:8080/"
        },
        "id": "GAVbHndml5To",
        "outputId": "a5d77bec-6cdc-4213-d0ca-1b00a1a38977"
      },
      "source": [
        "# Performance\n",
        "train_error = loss_fn(pred_train, y_train)\n",
        "test_error = loss_fn(pred_test, y_test)\n",
        "print(f'train_error: {train_error:.2f}')\n",
        "print(f'test_error: {test_error:.2f}')"
      ],
      "execution_count": 76,
      "outputs": [
        {
          "output_type": "stream",
          "text": [
            "train_error: 0.02\n",
            "test_error: 0.01\n"
          ],
          "name": "stdout"
        }
      ]
    },
    {
      "cell_type": "code",
      "metadata": {
        "colab": {
          "base_uri": "https://localhost:8080/",
          "height": 336
        },
        "id": "DT_hPJLdl7RF",
        "outputId": "22c4be6a-e9a1-4073-e170-9537235471f5"
      },
      "source": [
        "# Figure size\n",
        "plt.figure(figsize=(15,5))\n",
        "\n",
        "# Plot train data\n",
        "plt.subplot(1, 2, 1)\n",
        "plt.title(\"Train\")\n",
        "plt.scatter(X_train, y_train, label='y_train')\n",
        "plt.plot(X_train, pred_train.detach().numpy(), color='red', linewidth=1, linestyle='-', label='model')\n",
        "plt.legend(loc='lower right')\n",
        "\n",
        "# Plot test data\n",
        "plt.subplot(1, 2, 2)\n",
        "plt.title(\"Test\")\n",
        "plt.scatter(X_test, y_test, label='y_test')\n",
        "plt.plot(X_test, pred_test.detach().numpy(), color='red', linewidth=1, linestyle='-', label='model')\n",
        "plt.legend(loc='lower right')\n",
        "\n",
        "# Show plots\n",
        "plt.show()"
      ],
      "execution_count": 77,
      "outputs": [
        {
          "output_type": "display_data",
          "data": {
            "image/png": "[encoded data removed]",
            "text/plain": [
              "<Figure size 1080x360 with 2 Axes>"
            ]
          },
          "metadata": {
            "tags": [],
            "needs_background": "light"
          }
        }
      ]
    }
  ]
}